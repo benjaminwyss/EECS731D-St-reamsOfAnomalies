{
 "cells": [
  {
   "cell_type": "markdown",
   "metadata": {},
   "source": [
    "# D(St)reams of Anomalies\n",
    "\n",
    "a project for EECS 731 by Benjamin Wyss\n",
    "\n",
    "Examining New York City taxi passenger quantities to detect anomalies in the total number of passengers per thirty minute interval.\n",
    "\n",
    "###### python imports"
   ]
  },
  {
   "cell_type": "code",
   "execution_count": 163,
   "metadata": {},
   "outputs": [],
   "source": [
    "import numpy as np\n",
    "import pandas as pd\n",
    "from pandas.tseries.holiday import USFederalHolidayCalendar as calendar\n",
    "import sklearn as skl\n",
    "import matplotlib.pyplot as plt\n",
    "plt.close('all')\n",
    "import warnings\n",
    "warnings.filterwarnings('ignore')"
   ]
  },
  {
   "cell_type": "markdown",
   "metadata": {},
   "source": [
    "### Reading Data Set From CSV"
   ]
  },
  {
   "cell_type": "markdown",
   "metadata": {},
   "source": [
    "Numenta Anomaly Benchmark (NAB) Datasets - Real Known Cause Anomalies - NYC Taxi Dataset\n",
    "\n",
    "Taken from: https://github.com/numenta/NAB/tree/master/data on 10/15/20\n",
    "\n",
    "This data set was selected to be examined for the following reasons:\n",
    "\n",
    "(1): It has a great total number of samples (10,320).\n",
    "(2): Out of all of the NAB datasets, it contains the most labeled anomalies (5).\n",
    "(3): Because it contains real data with real known anomaly causes, it will be easier to reason about."
   ]
  },
  {
   "cell_type": "markdown",
   "metadata": {},
   "source": [
    "###### NYC taxi passenger quantities per thirty minute interval"
   ]
  },
  {
   "cell_type": "code",
   "execution_count": 164,
   "metadata": {},
   "outputs": [],
   "source": [
    "df = pd.read_csv('../data/raw/nyc_taxi.csv')"
   ]
  },
  {
   "cell_type": "code",
   "execution_count": 165,
   "metadata": {},
   "outputs": [
    {
     "data": {
      "text/html": [
       "<div>\n",
       "<style scoped>\n",
       "    .dataframe tbody tr th:only-of-type {\n",
       "        vertical-align: middle;\n",
       "    }\n",
       "\n",
       "    .dataframe tbody tr th {\n",
       "        vertical-align: top;\n",
       "    }\n",
       "\n",
       "    .dataframe thead th {\n",
       "        text-align: right;\n",
       "    }\n",
       "</style>\n",
       "<table border=\"1\" class=\"dataframe\">\n",
       "  <thead>\n",
       "    <tr style=\"text-align: right;\">\n",
       "      <th></th>\n",
       "      <th>timestamp</th>\n",
       "      <th>value</th>\n",
       "    </tr>\n",
       "  </thead>\n",
       "  <tbody>\n",
       "    <tr>\n",
       "      <th>0</th>\n",
       "      <td>2014-07-01 00:00:00</td>\n",
       "      <td>10844</td>\n",
       "    </tr>\n",
       "    <tr>\n",
       "      <th>1</th>\n",
       "      <td>2014-07-01 00:30:00</td>\n",
       "      <td>8127</td>\n",
       "    </tr>\n",
       "    <tr>\n",
       "      <th>2</th>\n",
       "      <td>2014-07-01 01:00:00</td>\n",
       "      <td>6210</td>\n",
       "    </tr>\n",
       "    <tr>\n",
       "      <th>3</th>\n",
       "      <td>2014-07-01 01:30:00</td>\n",
       "      <td>4656</td>\n",
       "    </tr>\n",
       "    <tr>\n",
       "      <th>4</th>\n",
       "      <td>2014-07-01 02:00:00</td>\n",
       "      <td>3820</td>\n",
       "    </tr>\n",
       "    <tr>\n",
       "      <th>...</th>\n",
       "      <td>...</td>\n",
       "      <td>...</td>\n",
       "    </tr>\n",
       "    <tr>\n",
       "      <th>10315</th>\n",
       "      <td>2015-01-31 21:30:00</td>\n",
       "      <td>24670</td>\n",
       "    </tr>\n",
       "    <tr>\n",
       "      <th>10316</th>\n",
       "      <td>2015-01-31 22:00:00</td>\n",
       "      <td>25721</td>\n",
       "    </tr>\n",
       "    <tr>\n",
       "      <th>10317</th>\n",
       "      <td>2015-01-31 22:30:00</td>\n",
       "      <td>27309</td>\n",
       "    </tr>\n",
       "    <tr>\n",
       "      <th>10318</th>\n",
       "      <td>2015-01-31 23:00:00</td>\n",
       "      <td>26591</td>\n",
       "    </tr>\n",
       "    <tr>\n",
       "      <th>10319</th>\n",
       "      <td>2015-01-31 23:30:00</td>\n",
       "      <td>26288</td>\n",
       "    </tr>\n",
       "  </tbody>\n",
       "</table>\n",
       "<p>10320 rows × 2 columns</p>\n",
       "</div>"
      ],
      "text/plain": [
       "                 timestamp  value\n",
       "0      2014-07-01 00:00:00  10844\n",
       "1      2014-07-01 00:30:00   8127\n",
       "2      2014-07-01 01:00:00   6210\n",
       "3      2014-07-01 01:30:00   4656\n",
       "4      2014-07-01 02:00:00   3820\n",
       "...                    ...    ...\n",
       "10315  2015-01-31 21:30:00  24670\n",
       "10316  2015-01-31 22:00:00  25721\n",
       "10317  2015-01-31 22:30:00  27309\n",
       "10318  2015-01-31 23:00:00  26591\n",
       "10319  2015-01-31 23:30:00  26288\n",
       "\n",
       "[10320 rows x 2 columns]"
      ]
     },
     "execution_count": 165,
     "metadata": {},
     "output_type": "execute_result"
    }
   ],
   "source": [
    "df"
   ]
  },
  {
   "cell_type": "markdown",
   "metadata": {},
   "source": [
    "## The Big Ideas\n",
    "\n",
    "Feature engineering and transformation can add value to this data set for constructing an anomaly detection model in the following ways:\n",
    "\n",
    "(1): By extracting new features from the timestamp attribute such as isMajorHoliday, isNight, and isWeekend, an anomaly detection model can look for anomalies relative to different subsets of data points.\n",
    "\n",
    "(2): By standardizing timestamp hours and minutes to a value between 0 and 1, anomaly detection models can reason about taxi passenger quantity by time of day without being overinfluenced by the large magnitudes of hours and minutes.\n",
    "\n",
    "(3): By excluding unimportant timestamp attributes--such as day, month, and year--from being anomaly detection model features, model accuracy will improve because these attributes provide little information as far as anomalous behavior is concerned.\n",
    "\n",
    "## Exploratory Data Analysis\n",
    "\n",
    "### Cleaning the Data Set\n",
    "\n",
    "First, the timestamp column is converted to the pandas datetime type so that it can later be reasoned about component-wise"
   ]
  },
  {
   "cell_type": "code",
   "execution_count": 166,
   "metadata": {},
   "outputs": [],
   "source": [
    "df['timestamp'] = pd.to_datetime(df['timestamp'])"
   ]
  },
  {
   "cell_type": "code",
   "execution_count": 167,
   "metadata": {},
   "outputs": [
    {
     "data": {
      "text/html": [
       "<div>\n",
       "<style scoped>\n",
       "    .dataframe tbody tr th:only-of-type {\n",
       "        vertical-align: middle;\n",
       "    }\n",
       "\n",
       "    .dataframe tbody tr th {\n",
       "        vertical-align: top;\n",
       "    }\n",
       "\n",
       "    .dataframe thead th {\n",
       "        text-align: right;\n",
       "    }\n",
       "</style>\n",
       "<table border=\"1\" class=\"dataframe\">\n",
       "  <thead>\n",
       "    <tr style=\"text-align: right;\">\n",
       "      <th></th>\n",
       "      <th>timestamp</th>\n",
       "      <th>value</th>\n",
       "    </tr>\n",
       "  </thead>\n",
       "  <tbody>\n",
       "    <tr>\n",
       "      <th>0</th>\n",
       "      <td>2014-07-01 00:00:00</td>\n",
       "      <td>10844</td>\n",
       "    </tr>\n",
       "    <tr>\n",
       "      <th>1</th>\n",
       "      <td>2014-07-01 00:30:00</td>\n",
       "      <td>8127</td>\n",
       "    </tr>\n",
       "    <tr>\n",
       "      <th>2</th>\n",
       "      <td>2014-07-01 01:00:00</td>\n",
       "      <td>6210</td>\n",
       "    </tr>\n",
       "    <tr>\n",
       "      <th>3</th>\n",
       "      <td>2014-07-01 01:30:00</td>\n",
       "      <td>4656</td>\n",
       "    </tr>\n",
       "    <tr>\n",
       "      <th>4</th>\n",
       "      <td>2014-07-01 02:00:00</td>\n",
       "      <td>3820</td>\n",
       "    </tr>\n",
       "    <tr>\n",
       "      <th>...</th>\n",
       "      <td>...</td>\n",
       "      <td>...</td>\n",
       "    </tr>\n",
       "    <tr>\n",
       "      <th>10315</th>\n",
       "      <td>2015-01-31 21:30:00</td>\n",
       "      <td>24670</td>\n",
       "    </tr>\n",
       "    <tr>\n",
       "      <th>10316</th>\n",
       "      <td>2015-01-31 22:00:00</td>\n",
       "      <td>25721</td>\n",
       "    </tr>\n",
       "    <tr>\n",
       "      <th>10317</th>\n",
       "      <td>2015-01-31 22:30:00</td>\n",
       "      <td>27309</td>\n",
       "    </tr>\n",
       "    <tr>\n",
       "      <th>10318</th>\n",
       "      <td>2015-01-31 23:00:00</td>\n",
       "      <td>26591</td>\n",
       "    </tr>\n",
       "    <tr>\n",
       "      <th>10319</th>\n",
       "      <td>2015-01-31 23:30:00</td>\n",
       "      <td>26288</td>\n",
       "    </tr>\n",
       "  </tbody>\n",
       "</table>\n",
       "<p>10320 rows × 2 columns</p>\n",
       "</div>"
      ],
      "text/plain": [
       "                timestamp  value\n",
       "0     2014-07-01 00:00:00  10844\n",
       "1     2014-07-01 00:30:00   8127\n",
       "2     2014-07-01 01:00:00   6210\n",
       "3     2014-07-01 01:30:00   4656\n",
       "4     2014-07-01 02:00:00   3820\n",
       "...                   ...    ...\n",
       "10315 2015-01-31 21:30:00  24670\n",
       "10316 2015-01-31 22:00:00  25721\n",
       "10317 2015-01-31 22:30:00  27309\n",
       "10318 2015-01-31 23:00:00  26591\n",
       "10319 2015-01-31 23:30:00  26288\n",
       "\n",
       "[10320 rows x 2 columns]"
      ]
     },
     "execution_count": 167,
     "metadata": {},
     "output_type": "execute_result"
    }
   ],
   "source": [
    "df"
   ]
  },
  {
   "cell_type": "markdown",
   "metadata": {},
   "source": [
    "Next, the samples which are indicated as anomalies according to https://github.com/numenta/NAB/blob/master/labels/combined_labels.json are labeled as such.\n",
    "\n",
    "As stated in https://github.com/numenta/NAB/tree/master/data, the five labeled anomalies correspond to the NYC marathon, Thanksgiving, Christmas, New Year's day, and the January 27 Blizzard of 2015. "
   ]
  },
  {
   "cell_type": "code",
   "execution_count": 168,
   "metadata": {},
   "outputs": [],
   "source": [
    "df['isAnomaly'] = 0\n",
    "df.loc[df.timestamp == '2014-11-01 19:00:00', 'isAnomaly'] = 1\n",
    "df.loc[df.timestamp == '2014-11-27 15:30:00', 'isAnomaly'] = 1\n",
    "df.loc[df.timestamp == '2014-12-25 15:00:00', 'isAnomaly'] = 1\n",
    "df.loc[df.timestamp == '2015-01-01 01:00:00', 'isAnomaly'] = 1\n",
    "df.loc[df.timestamp == '2015-01-27 00:00:00', 'isAnomaly'] = 1"
   ]
  },
  {
   "cell_type": "code",
   "execution_count": 169,
   "metadata": {
    "scrolled": true
   },
   "outputs": [
    {
     "data": {
      "text/html": [
       "<div>\n",
       "<style scoped>\n",
       "    .dataframe tbody tr th:only-of-type {\n",
       "        vertical-align: middle;\n",
       "    }\n",
       "\n",
       "    .dataframe tbody tr th {\n",
       "        vertical-align: top;\n",
       "    }\n",
       "\n",
       "    .dataframe thead th {\n",
       "        text-align: right;\n",
       "    }\n",
       "</style>\n",
       "<table border=\"1\" class=\"dataframe\">\n",
       "  <thead>\n",
       "    <tr style=\"text-align: right;\">\n",
       "      <th></th>\n",
       "      <th>timestamp</th>\n",
       "      <th>value</th>\n",
       "      <th>isAnomaly</th>\n",
       "    </tr>\n",
       "  </thead>\n",
       "  <tbody>\n",
       "    <tr>\n",
       "      <th>5942</th>\n",
       "      <td>2014-11-01 19:00:00</td>\n",
       "      <td>28398</td>\n",
       "      <td>1</td>\n",
       "    </tr>\n",
       "    <tr>\n",
       "      <th>7183</th>\n",
       "      <td>2014-11-27 15:30:00</td>\n",
       "      <td>15255</td>\n",
       "      <td>1</td>\n",
       "    </tr>\n",
       "    <tr>\n",
       "      <th>8526</th>\n",
       "      <td>2014-12-25 15:00:00</td>\n",
       "      <td>12039</td>\n",
       "      <td>1</td>\n",
       "    </tr>\n",
       "    <tr>\n",
       "      <th>8834</th>\n",
       "      <td>2015-01-01 01:00:00</td>\n",
       "      <td>30236</td>\n",
       "      <td>1</td>\n",
       "    </tr>\n",
       "    <tr>\n",
       "      <th>10080</th>\n",
       "      <td>2015-01-27 00:00:00</td>\n",
       "      <td>109</td>\n",
       "      <td>1</td>\n",
       "    </tr>\n",
       "  </tbody>\n",
       "</table>\n",
       "</div>"
      ],
      "text/plain": [
       "                timestamp  value  isAnomaly\n",
       "5942  2014-11-01 19:00:00  28398          1\n",
       "7183  2014-11-27 15:30:00  15255          1\n",
       "8526  2014-12-25 15:00:00  12039          1\n",
       "8834  2015-01-01 01:00:00  30236          1\n",
       "10080 2015-01-27 00:00:00    109          1"
      ]
     },
     "execution_count": 169,
     "metadata": {},
     "output_type": "execute_result"
    }
   ],
   "source": [
    "df[df.isAnomaly == 1]"
   ]
  },
  {
   "cell_type": "code",
   "execution_count": 170,
   "metadata": {},
   "outputs": [
    {
     "data": {
      "text/html": [
       "<div>\n",
       "<style scoped>\n",
       "    .dataframe tbody tr th:only-of-type {\n",
       "        vertical-align: middle;\n",
       "    }\n",
       "\n",
       "    .dataframe tbody tr th {\n",
       "        vertical-align: top;\n",
       "    }\n",
       "\n",
       "    .dataframe thead th {\n",
       "        text-align: right;\n",
       "    }\n",
       "</style>\n",
       "<table border=\"1\" class=\"dataframe\">\n",
       "  <thead>\n",
       "    <tr style=\"text-align: right;\">\n",
       "      <th></th>\n",
       "      <th>timestamp</th>\n",
       "      <th>value</th>\n",
       "      <th>isAnomaly</th>\n",
       "    </tr>\n",
       "  </thead>\n",
       "  <tbody>\n",
       "    <tr>\n",
       "      <th>0</th>\n",
       "      <td>2014-07-01 00:00:00</td>\n",
       "      <td>10844</td>\n",
       "      <td>0</td>\n",
       "    </tr>\n",
       "    <tr>\n",
       "      <th>1</th>\n",
       "      <td>2014-07-01 00:30:00</td>\n",
       "      <td>8127</td>\n",
       "      <td>0</td>\n",
       "    </tr>\n",
       "    <tr>\n",
       "      <th>2</th>\n",
       "      <td>2014-07-01 01:00:00</td>\n",
       "      <td>6210</td>\n",
       "      <td>0</td>\n",
       "    </tr>\n",
       "    <tr>\n",
       "      <th>3</th>\n",
       "      <td>2014-07-01 01:30:00</td>\n",
       "      <td>4656</td>\n",
       "      <td>0</td>\n",
       "    </tr>\n",
       "    <tr>\n",
       "      <th>4</th>\n",
       "      <td>2014-07-01 02:00:00</td>\n",
       "      <td>3820</td>\n",
       "      <td>0</td>\n",
       "    </tr>\n",
       "    <tr>\n",
       "      <th>...</th>\n",
       "      <td>...</td>\n",
       "      <td>...</td>\n",
       "      <td>...</td>\n",
       "    </tr>\n",
       "    <tr>\n",
       "      <th>10315</th>\n",
       "      <td>2015-01-31 21:30:00</td>\n",
       "      <td>24670</td>\n",
       "      <td>0</td>\n",
       "    </tr>\n",
       "    <tr>\n",
       "      <th>10316</th>\n",
       "      <td>2015-01-31 22:00:00</td>\n",
       "      <td>25721</td>\n",
       "      <td>0</td>\n",
       "    </tr>\n",
       "    <tr>\n",
       "      <th>10317</th>\n",
       "      <td>2015-01-31 22:30:00</td>\n",
       "      <td>27309</td>\n",
       "      <td>0</td>\n",
       "    </tr>\n",
       "    <tr>\n",
       "      <th>10318</th>\n",
       "      <td>2015-01-31 23:00:00</td>\n",
       "      <td>26591</td>\n",
       "      <td>0</td>\n",
       "    </tr>\n",
       "    <tr>\n",
       "      <th>10319</th>\n",
       "      <td>2015-01-31 23:30:00</td>\n",
       "      <td>26288</td>\n",
       "      <td>0</td>\n",
       "    </tr>\n",
       "  </tbody>\n",
       "</table>\n",
       "<p>10320 rows × 3 columns</p>\n",
       "</div>"
      ],
      "text/plain": [
       "                timestamp  value  isAnomaly\n",
       "0     2014-07-01 00:00:00  10844          0\n",
       "1     2014-07-01 00:30:00   8127          0\n",
       "2     2014-07-01 01:00:00   6210          0\n",
       "3     2014-07-01 01:30:00   4656          0\n",
       "4     2014-07-01 02:00:00   3820          0\n",
       "...                   ...    ...        ...\n",
       "10315 2015-01-31 21:30:00  24670          0\n",
       "10316 2015-01-31 22:00:00  25721          0\n",
       "10317 2015-01-31 22:30:00  27309          0\n",
       "10318 2015-01-31 23:00:00  26591          0\n",
       "10319 2015-01-31 23:30:00  26288          0\n",
       "\n",
       "[10320 rows x 3 columns]"
      ]
     },
     "execution_count": 170,
     "metadata": {},
     "output_type": "execute_result"
    }
   ],
   "source": [
    "df"
   ]
  },
  {
   "cell_type": "markdown",
   "metadata": {},
   "source": [
    "### Transforming the Data Set\n",
    "\n",
    "##### Feature Extraction\n",
    "\n",
    "Using the timestamp column, additional features will be generated to record whether a sample corresponds to nighttime, a weekend, and/or a major U.S. Federal holiday.\n",
    "\n",
    "The below calculations assume that:\n",
    "\n",
    "nighttime is between the hours of 7:00 p.m. and 5:00 a.m., \n",
    "only Saturday and Sunday count as weekends, \n",
    "and major U.S. Federal holidays correspond to holidays listed within the pandas.tseries.holiday USFederalHolidayCalendar."
   ]
  },
  {
   "cell_type": "code",
   "execution_count": 171,
   "metadata": {},
   "outputs": [],
   "source": [
    "df['isNight'] = ((df.timestamp.dt.hour >= 19) | (df.timestamp.dt.hour < 5)).astype(int)\n",
    "df['isWeekend'] = (df.timestamp.dt.dayofweek >= 5).astype(int)\n",
    "\n",
    "holidays = calendar().holidays(start=df.timestamp.min(), end=df.timestamp.max())\n",
    "df['isMajorHoliday'] = df['timestamp'].dt.date.astype('datetime64').isin(holidays).astype(int)"
   ]
  },
  {
   "cell_type": "code",
   "execution_count": 172,
   "metadata": {},
   "outputs": [
    {
     "data": {
      "text/html": [
       "<div>\n",
       "<style scoped>\n",
       "    .dataframe tbody tr th:only-of-type {\n",
       "        vertical-align: middle;\n",
       "    }\n",
       "\n",
       "    .dataframe tbody tr th {\n",
       "        vertical-align: top;\n",
       "    }\n",
       "\n",
       "    .dataframe thead th {\n",
       "        text-align: right;\n",
       "    }\n",
       "</style>\n",
       "<table border=\"1\" class=\"dataframe\">\n",
       "  <thead>\n",
       "    <tr style=\"text-align: right;\">\n",
       "      <th></th>\n",
       "      <th>timestamp</th>\n",
       "      <th>value</th>\n",
       "      <th>isAnomaly</th>\n",
       "      <th>isNight</th>\n",
       "      <th>isWeekend</th>\n",
       "      <th>isMajorHoliday</th>\n",
       "    </tr>\n",
       "  </thead>\n",
       "  <tbody>\n",
       "    <tr>\n",
       "      <th>0</th>\n",
       "      <td>2014-07-01 00:00:00</td>\n",
       "      <td>10844</td>\n",
       "      <td>0</td>\n",
       "      <td>1</td>\n",
       "      <td>0</td>\n",
       "      <td>0</td>\n",
       "    </tr>\n",
       "    <tr>\n",
       "      <th>1</th>\n",
       "      <td>2014-07-01 00:30:00</td>\n",
       "      <td>8127</td>\n",
       "      <td>0</td>\n",
       "      <td>1</td>\n",
       "      <td>0</td>\n",
       "      <td>0</td>\n",
       "    </tr>\n",
       "    <tr>\n",
       "      <th>2</th>\n",
       "      <td>2014-07-01 01:00:00</td>\n",
       "      <td>6210</td>\n",
       "      <td>0</td>\n",
       "      <td>1</td>\n",
       "      <td>0</td>\n",
       "      <td>0</td>\n",
       "    </tr>\n",
       "    <tr>\n",
       "      <th>3</th>\n",
       "      <td>2014-07-01 01:30:00</td>\n",
       "      <td>4656</td>\n",
       "      <td>0</td>\n",
       "      <td>1</td>\n",
       "      <td>0</td>\n",
       "      <td>0</td>\n",
       "    </tr>\n",
       "    <tr>\n",
       "      <th>4</th>\n",
       "      <td>2014-07-01 02:00:00</td>\n",
       "      <td>3820</td>\n",
       "      <td>0</td>\n",
       "      <td>1</td>\n",
       "      <td>0</td>\n",
       "      <td>0</td>\n",
       "    </tr>\n",
       "    <tr>\n",
       "      <th>...</th>\n",
       "      <td>...</td>\n",
       "      <td>...</td>\n",
       "      <td>...</td>\n",
       "      <td>...</td>\n",
       "      <td>...</td>\n",
       "      <td>...</td>\n",
       "    </tr>\n",
       "    <tr>\n",
       "      <th>10315</th>\n",
       "      <td>2015-01-31 21:30:00</td>\n",
       "      <td>24670</td>\n",
       "      <td>0</td>\n",
       "      <td>1</td>\n",
       "      <td>1</td>\n",
       "      <td>0</td>\n",
       "    </tr>\n",
       "    <tr>\n",
       "      <th>10316</th>\n",
       "      <td>2015-01-31 22:00:00</td>\n",
       "      <td>25721</td>\n",
       "      <td>0</td>\n",
       "      <td>1</td>\n",
       "      <td>1</td>\n",
       "      <td>0</td>\n",
       "    </tr>\n",
       "    <tr>\n",
       "      <th>10317</th>\n",
       "      <td>2015-01-31 22:30:00</td>\n",
       "      <td>27309</td>\n",
       "      <td>0</td>\n",
       "      <td>1</td>\n",
       "      <td>1</td>\n",
       "      <td>0</td>\n",
       "    </tr>\n",
       "    <tr>\n",
       "      <th>10318</th>\n",
       "      <td>2015-01-31 23:00:00</td>\n",
       "      <td>26591</td>\n",
       "      <td>0</td>\n",
       "      <td>1</td>\n",
       "      <td>1</td>\n",
       "      <td>0</td>\n",
       "    </tr>\n",
       "    <tr>\n",
       "      <th>10319</th>\n",
       "      <td>2015-01-31 23:30:00</td>\n",
       "      <td>26288</td>\n",
       "      <td>0</td>\n",
       "      <td>1</td>\n",
       "      <td>1</td>\n",
       "      <td>0</td>\n",
       "    </tr>\n",
       "  </tbody>\n",
       "</table>\n",
       "<p>10320 rows × 6 columns</p>\n",
       "</div>"
      ],
      "text/plain": [
       "                timestamp  value  isAnomaly  isNight  isWeekend  \\\n",
       "0     2014-07-01 00:00:00  10844          0        1          0   \n",
       "1     2014-07-01 00:30:00   8127          0        1          0   \n",
       "2     2014-07-01 01:00:00   6210          0        1          0   \n",
       "3     2014-07-01 01:30:00   4656          0        1          0   \n",
       "4     2014-07-01 02:00:00   3820          0        1          0   \n",
       "...                   ...    ...        ...      ...        ...   \n",
       "10315 2015-01-31 21:30:00  24670          0        1          1   \n",
       "10316 2015-01-31 22:00:00  25721          0        1          1   \n",
       "10317 2015-01-31 22:30:00  27309          0        1          1   \n",
       "10318 2015-01-31 23:00:00  26591          0        1          1   \n",
       "10319 2015-01-31 23:30:00  26288          0        1          1   \n",
       "\n",
       "       isMajorHoliday  \n",
       "0                   0  \n",
       "1                   0  \n",
       "2                   0  \n",
       "3                   0  \n",
       "4                   0  \n",
       "...               ...  \n",
       "10315               0  \n",
       "10316               0  \n",
       "10317               0  \n",
       "10318               0  \n",
       "10319               0  \n",
       "\n",
       "[10320 rows x 6 columns]"
      ]
     },
     "execution_count": 172,
     "metadata": {},
     "output_type": "execute_result"
    }
   ],
   "source": [
    "df"
   ]
  },
  {
   "cell_type": "markdown",
   "metadata": {},
   "source": [
    "### Exporting Transformed Data Set to CSV"
   ]
  },
  {
   "cell_type": "code",
   "execution_count": 173,
   "metadata": {},
   "outputs": [],
   "source": [
    "df.to_csv('../data/processed/nyc_taxi_transformed.csv')"
   ]
  },
  {
   "cell_type": "markdown",
   "metadata": {},
   "source": [
    "### Visualizing the Data\n",
    "\n",
    "First, some basic statistics of the data set and correlation coefficients are calculated. "
   ]
  },
  {
   "cell_type": "code",
   "execution_count": 174,
   "metadata": {},
   "outputs": [
    {
     "data": {
      "text/html": [
       "<div>\n",
       "<style scoped>\n",
       "    .dataframe tbody tr th:only-of-type {\n",
       "        vertical-align: middle;\n",
       "    }\n",
       "\n",
       "    .dataframe tbody tr th {\n",
       "        vertical-align: top;\n",
       "    }\n",
       "\n",
       "    .dataframe thead th {\n",
       "        text-align: right;\n",
       "    }\n",
       "</style>\n",
       "<table border=\"1\" class=\"dataframe\">\n",
       "  <thead>\n",
       "    <tr style=\"text-align: right;\">\n",
       "      <th></th>\n",
       "      <th>value</th>\n",
       "      <th>isAnomaly</th>\n",
       "      <th>isNight</th>\n",
       "      <th>isWeekend</th>\n",
       "      <th>isMajorHoliday</th>\n",
       "    </tr>\n",
       "  </thead>\n",
       "  <tbody>\n",
       "    <tr>\n",
       "      <th>count</th>\n",
       "      <td>10320.000000</td>\n",
       "      <td>10320.000000</td>\n",
       "      <td>10320.000000</td>\n",
       "      <td>10320.000000</td>\n",
       "      <td>10320.000000</td>\n",
       "    </tr>\n",
       "    <tr>\n",
       "      <th>mean</th>\n",
       "      <td>15137.569380</td>\n",
       "      <td>0.000484</td>\n",
       "      <td>0.416667</td>\n",
       "      <td>0.283721</td>\n",
       "      <td>0.037209</td>\n",
       "    </tr>\n",
       "    <tr>\n",
       "      <th>std</th>\n",
       "      <td>6939.495808</td>\n",
       "      <td>0.022007</td>\n",
       "      <td>0.493031</td>\n",
       "      <td>0.450825</td>\n",
       "      <td>0.189283</td>\n",
       "    </tr>\n",
       "    <tr>\n",
       "      <th>min</th>\n",
       "      <td>8.000000</td>\n",
       "      <td>0.000000</td>\n",
       "      <td>0.000000</td>\n",
       "      <td>0.000000</td>\n",
       "      <td>0.000000</td>\n",
       "    </tr>\n",
       "    <tr>\n",
       "      <th>25%</th>\n",
       "      <td>10262.000000</td>\n",
       "      <td>0.000000</td>\n",
       "      <td>0.000000</td>\n",
       "      <td>0.000000</td>\n",
       "      <td>0.000000</td>\n",
       "    </tr>\n",
       "    <tr>\n",
       "      <th>50%</th>\n",
       "      <td>16778.000000</td>\n",
       "      <td>0.000000</td>\n",
       "      <td>0.000000</td>\n",
       "      <td>0.000000</td>\n",
       "      <td>0.000000</td>\n",
       "    </tr>\n",
       "    <tr>\n",
       "      <th>75%</th>\n",
       "      <td>19838.750000</td>\n",
       "      <td>0.000000</td>\n",
       "      <td>1.000000</td>\n",
       "      <td>1.000000</td>\n",
       "      <td>0.000000</td>\n",
       "    </tr>\n",
       "    <tr>\n",
       "      <th>max</th>\n",
       "      <td>39197.000000</td>\n",
       "      <td>1.000000</td>\n",
       "      <td>1.000000</td>\n",
       "      <td>1.000000</td>\n",
       "      <td>1.000000</td>\n",
       "    </tr>\n",
       "  </tbody>\n",
       "</table>\n",
       "</div>"
      ],
      "text/plain": [
       "              value     isAnomaly       isNight     isWeekend  isMajorHoliday\n",
       "count  10320.000000  10320.000000  10320.000000  10320.000000    10320.000000\n",
       "mean   15137.569380      0.000484      0.416667      0.283721        0.037209\n",
       "std     6939.495808      0.022007      0.493031      0.450825        0.189283\n",
       "min        8.000000      0.000000      0.000000      0.000000        0.000000\n",
       "25%    10262.000000      0.000000      0.000000      0.000000        0.000000\n",
       "50%    16778.000000      0.000000      0.000000      0.000000        0.000000\n",
       "75%    19838.750000      0.000000      1.000000      1.000000        0.000000\n",
       "max    39197.000000      1.000000      1.000000      1.000000        1.000000"
      ]
     },
     "execution_count": 174,
     "metadata": {},
     "output_type": "execute_result"
    }
   ],
   "source": [
    "df.describe()"
   ]
  },
  {
   "cell_type": "code",
   "execution_count": 175,
   "metadata": {
    "scrolled": false
   },
   "outputs": [
    {
     "data": {
      "text/html": [
       "<div>\n",
       "<style scoped>\n",
       "    .dataframe tbody tr th:only-of-type {\n",
       "        vertical-align: middle;\n",
       "    }\n",
       "\n",
       "    .dataframe tbody tr th {\n",
       "        vertical-align: top;\n",
       "    }\n",
       "\n",
       "    .dataframe thead th {\n",
       "        text-align: right;\n",
       "    }\n",
       "</style>\n",
       "<table border=\"1\" class=\"dataframe\">\n",
       "  <thead>\n",
       "    <tr style=\"text-align: right;\">\n",
       "      <th></th>\n",
       "      <th>value</th>\n",
       "      <th>isAnomaly</th>\n",
       "      <th>isNight</th>\n",
       "      <th>isWeekend</th>\n",
       "      <th>isMajorHoliday</th>\n",
       "    </tr>\n",
       "  </thead>\n",
       "  <tbody>\n",
       "    <tr>\n",
       "      <th>value</th>\n",
       "      <td>1.000000</td>\n",
       "      <td>0.006567</td>\n",
       "      <td>-2.918272e-02</td>\n",
       "      <td>6.887050e-02</td>\n",
       "      <td>-9.009660e-02</td>\n",
       "    </tr>\n",
       "    <tr>\n",
       "      <th>isAnomaly</th>\n",
       "      <td>0.006567</td>\n",
       "      <td>1.000000</td>\n",
       "      <td>8.187269e-03</td>\n",
       "      <td>-4.088816e-03</td>\n",
       "      <td>6.546446e-02</td>\n",
       "    </tr>\n",
       "    <tr>\n",
       "      <th>isNight</th>\n",
       "      <td>-0.029183</td>\n",
       "      <td>0.008187</td>\n",
       "      <td>1.000000e+00</td>\n",
       "      <td>5.992549e-17</td>\n",
       "      <td>-1.694021e-17</td>\n",
       "    </tr>\n",
       "    <tr>\n",
       "      <th>isWeekend</th>\n",
       "      <td>0.068871</td>\n",
       "      <td>-0.004089</td>\n",
       "      <td>5.992549e-17</td>\n",
       "      <td>1.000000e+00</td>\n",
       "      <td>-1.237270e-01</td>\n",
       "    </tr>\n",
       "    <tr>\n",
       "      <th>isMajorHoliday</th>\n",
       "      <td>-0.090097</td>\n",
       "      <td>0.065464</td>\n",
       "      <td>-1.694021e-17</td>\n",
       "      <td>-1.237270e-01</td>\n",
       "      <td>1.000000e+00</td>\n",
       "    </tr>\n",
       "  </tbody>\n",
       "</table>\n",
       "</div>"
      ],
      "text/plain": [
       "                   value  isAnomaly       isNight     isWeekend  \\\n",
       "value           1.000000   0.006567 -2.918272e-02  6.887050e-02   \n",
       "isAnomaly       0.006567   1.000000  8.187269e-03 -4.088816e-03   \n",
       "isNight        -0.029183   0.008187  1.000000e+00  5.992549e-17   \n",
       "isWeekend       0.068871  -0.004089  5.992549e-17  1.000000e+00   \n",
       "isMajorHoliday -0.090097   0.065464 -1.694021e-17 -1.237270e-01   \n",
       "\n",
       "                isMajorHoliday  \n",
       "value            -9.009660e-02  \n",
       "isAnomaly         6.546446e-02  \n",
       "isNight          -1.694021e-17  \n",
       "isWeekend        -1.237270e-01  \n",
       "isMajorHoliday    1.000000e+00  "
      ]
     },
     "execution_count": 175,
     "metadata": {},
     "output_type": "execute_result"
    }
   ],
   "source": [
    "df.corr()"
   ]
  },
  {
   "cell_type": "markdown",
   "metadata": {},
   "source": [
    "###### Generating Interesting Plots"
   ]
  },
  {
   "cell_type": "code",
   "execution_count": 176,
   "metadata": {},
   "outputs": [
    {
     "data": {
      "text/plain": [
       "<AxesSubplot:title={'center':'Total NYC Taxi Passenger Counts per Thirty Minutes vs. Timestamp'}, xlabel='timestamp'>"
      ]
     },
     "execution_count": 176,
     "metadata": {},
     "output_type": "execute_result"
    },
    {
     "data": {
      "image/png": "[encoded data removed]",
      "text/plain": [
       "<Figure size 432x288 with 1 Axes>"
      ]
     },
     "metadata": {
      "needs_background": "light"
     },
     "output_type": "display_data"
    }
   ],
   "source": [
    "df.plot(x='timestamp', y='value', title='Total NYC Taxi Passenger Counts per Thirty Minutes vs. Timestamp')"
   ]
  },
  {
   "cell_type": "markdown",
   "metadata": {},
   "source": [
    "There is so much data that this graph is cluttered. Now, examine just one week's worth of data to see the general daily trend."
   ]
  },
  {
   "cell_type": "code",
   "execution_count": 177,
   "metadata": {},
   "outputs": [
    {
     "data": {
      "text/plain": [
       "<AxesSubplot:title={'center':'One Week of Total NYC Taxi Passenger Counts per Thirty Minutes vs. Timestamp'}, xlabel='timestamp'>"
      ]
     },
     "execution_count": 177,
     "metadata": {},
     "output_type": "execute_result"
    },
    {
     "data": {
      "image/png": "[encoded data removed]",
      "text/plain": [
       "<Figure size 432x288 with 1 Axes>"
      ]
     },
     "metadata": {
      "needs_background": "light"
     },
     "output_type": "display_data"
    }
   ],
   "source": [
    "df.head(24*2*7).plot(x='timestamp', y='value', title='One Week of Total NYC Taxi Passenger Counts per Thirty Minutes vs. Timestamp')"
   ]
  },
  {
   "cell_type": "markdown",
   "metadata": {},
   "source": [
    "Now, examine the data for each day where an anomaly occurs"
   ]
  },
  {
   "cell_type": "code",
   "execution_count": 178,
   "metadata": {},
   "outputs": [
    {
     "data": {
      "text/plain": [
       "<AxesSubplot:title={'center':'NYC Marathon Anomaly Occuring at 19:00 Hours'}, xlabel='timestamp'>"
      ]
     },
     "execution_count": 178,
     "metadata": {},
     "output_type": "execute_result"
    },
    {
     "data": {
      "image/png": "[encoded data removed]",
      "text/plain": [
       "<Figure size 432x288 with 1 Axes>"
      ]
     },
     "metadata": {
      "needs_background": "light"
     },
     "output_type": "display_data"
    }
   ],
   "source": [
    "df[df.timestamp.dt.date == pd.Timestamp('2014-11-01')].plot(x='timestamp', y='value', title='NYC Marathon Anomaly Occuring at 19:00 Hours')"
   ]
  },
  {
   "cell_type": "code",
   "execution_count": 179,
   "metadata": {
    "scrolled": true
   },
   "outputs": [
    {
     "data": {
      "text/plain": [
       "<AxesSubplot:title={'center':'Thanksgiving Anomaly Occuring at 15:30 Hours'}, xlabel='timestamp'>"
      ]
     },
     "execution_count": 179,
     "metadata": {},
     "output_type": "execute_result"
    },
    {
     "data": {
      "image/png": "[encoded data removed]",
      "text/plain": [
       "<Figure size 432x288 with 1 Axes>"
      ]
     },
     "metadata": {
      "needs_background": "light"
     },
     "output_type": "display_data"
    }
   ],
   "source": [
    "df[df.timestamp.dt.date == pd.Timestamp('2014-11-27')].plot(x='timestamp', y='value', title='Thanksgiving Anomaly Occuring at 15:30 Hours')"
   ]
  },
  {
   "cell_type": "code",
   "execution_count": 180,
   "metadata": {},
   "outputs": [
    {
     "data": {
      "text/plain": [
       "<AxesSubplot:title={'center':'Christmas Anomaly Occuring at 15:00Hours'}, xlabel='timestamp'>"
      ]
     },
     "execution_count": 180,
     "metadata": {},
     "output_type": "execute_result"
    },
    {
     "data": {
      "image/png": "[encoded data removed]",
      "text/plain": [
       "<Figure size 432x288 with 1 Axes>"
      ]
     },
     "metadata": {
      "needs_background": "light"
     },
     "output_type": "display_data"
    }
   ],
   "source": [
    "df[df.timestamp.dt.date == pd.Timestamp('2014-12-25')].plot(x='timestamp', y='value', title='Christmas Anomaly Occuring at 15:00Hours')"
   ]
  },
  {
   "cell_type": "code",
   "execution_count": 181,
   "metadata": {},
   "outputs": [
    {
     "data": {
      "text/plain": [
       "<AxesSubplot:title={'center':\"New Year's Day Anomaly Occuring at 01:00 Hours\"}, xlabel='timestamp'>"
      ]
     },
     "execution_count": 181,
     "metadata": {},
     "output_type": "execute_result"
    },
    {
     "data": {
      "image/png": "[encoded data removed]",
      "text/plain": [
       "<Figure size 432x288 with 1 Axes>"
      ]
     },
     "metadata": {
      "needs_background": "light"
     },
     "output_type": "display_data"
    }
   ],
   "source": [
    "df[df.timestamp.dt.date == pd.Timestamp('2015-01-01')].plot(x='timestamp', y='value', title='New Year\\'s Day Anomaly Occuring at 01:00 Hours')"
   ]
  },
  {
   "cell_type": "code",
   "execution_count": 182,
   "metadata": {},
   "outputs": [
    {
     "data": {
      "text/plain": [
       "<AxesSubplot:title={'center':'Blizzard Anomaly Occuring at 00:00 Hours'}, xlabel='timestamp'>"
      ]
     },
     "execution_count": 182,
     "metadata": {},
     "output_type": "execute_result"
    },
    {
     "data": {
      "image/png": "[encoded data removed]",
      "text/plain": [
       "<Figure size 432x288 with 1 Axes>"
      ]
     },
     "metadata": {
      "needs_background": "light"
     },
     "output_type": "display_data"
    }
   ],
   "source": [
    "df[df.timestamp.dt.date == pd.Timestamp('2015-01-27')].plot(x='timestamp', y='value', title='Blizzard Anomaly Occuring at 00:00 Hours')"
   ]
  },
  {
   "cell_type": "markdown",
   "metadata": {},
   "source": [
    "### Model Construction"
   ]
  },
  {
   "cell_type": "markdown",
   "metadata": {},
   "source": [
    "### Testing Different Models"
   ]
  },
  {
   "cell_type": "markdown",
   "metadata": {},
   "source": [
    "## Results"
   ]
  }
 ],
 "metadata": {
  "kernelspec": {
   "display_name": "Python 3",
   "language": "python",
   "name": "python3"
  },
  "language_info": {
   "codemirror_mode": {
    "name": "ipython",
    "version": 3
   },
   "file_extension": ".py",
   "mimetype": "text/x-python",
   "name": "python",
   "nbconvert_exporter": "python",
   "pygments_lexer": "ipython3",
   "version": "3.7.3"
  }
 },
 "nbformat": 4,
 "nbformat_minor": 4
}
